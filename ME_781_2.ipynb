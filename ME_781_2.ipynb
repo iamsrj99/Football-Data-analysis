{
  "nbformat": 4,
  "nbformat_minor": 0,
  "metadata": {
    "colab": {
      "name": "Untitled1.ipynb",
      "provenance": [],
      "collapsed_sections": [],
      "toc_visible": true
    },
    "kernelspec": {
      "name": "python3",
      "display_name": "Python 3"
    }
  },
  "cells": [
    {
      "cell_type": "code",
      "metadata": {
        "id": "0ZwAWdjoli84"
      },
      "source": [
        "import pandas as pd\n",
        "import numpy as np\n",
        "from sklearn.decomposition import PCA\n",
        "import matplotlib.pyplot as plt\n",
        "import seaborn as sns\n",
        "from pandas.plotting import scatter_matrix\n",
        "from sklearn.linear_model import LinearRegression\n",
        "from sklearn.tree import DecisionTreeRegressor\n",
        "from sklearn.ensemble import RandomForestRegressor\n",
        "from sklearn.svm import SVR\n",
        "from sklearn.model_selection import train_test_split\n",
        "from sklearn.model_selection import cross_val_score\n",
        "from sklearn.model_selection import GridSearchCV\n",
        "from sklearn.metrics import mean_squared_error\n",
        "from sklearn.metrics import r2_score\n",
        " \n",
        " \n",
        "from sklearn.impute import SimpleImputer"
      ],
      "execution_count": null,
      "outputs": []
    },
    {
      "cell_type": "code",
      "metadata": {
        "id": "3jTur2vHmECy"
      },
      "source": [
        ""
      ],
      "execution_count": null,
      "outputs": []
    },
    {
      "cell_type": "markdown",
      "metadata": {
        "id": "-qf8Zk39bHPV"
      },
      "source": [
        "# **Cleaning up the data in a convinient way**"
      ]
    },
    {
      "cell_type": "code",
      "metadata": {
        "id": "Trz-iJsztOD7"
      },
      "source": [
        "def parseValue(x):\n",
        "    x = str(x).replace('€', '')\n",
        "    if('M' in str(x)):\n",
        "        x = str(x).replace('M', '')\n",
        "        x = float(x) * 1000000\n",
        "    elif('K' in str(x)):\n",
        "        x = str(x).replace('K', '')\n",
        "        x = float(x) * 1000\n",
        "    return float(x)\n",
        "\n",
        "\n",
        "    #converting Currency symbols to Values"
      ],
      "execution_count": null,
      "outputs": []
    },
    {
      "cell_type": "code",
      "metadata": {
        "id": "FRNDkKvhtSAG"
      },
      "source": [
        ""
      ],
      "execution_count": null,
      "outputs": []
    },
    {
      "cell_type": "code",
      "metadata": {
        "id": "Zc4Rl0cWtuZ6"
      },
      "source": [
        "def load_dataset(dataSet_path):\n",
        "    data = pd.read_csv(dataSet_path, error_bad_lines=False)\n",
        "    return data\n",
        "\n",
        "#Imputation\n",
        "def impute_data(df):\n",
        "    df.dropna(inplace=True)\n",
        "\n",
        "# Coversion weight to int\n",
        "def weight_to_int(df):\n",
        "    df['Weight'] = df['Weight'].str[:-3]\n",
        "    df['Weight'] = df['Weight'].apply(lambda x: int(x))\n",
        "    return df\n",
        "\n",
        "def height_convert(df_height):\n",
        "        try:\n",
        "            feet = int(df_height[0])\n",
        "            dlm = df_height[-2]\n",
        "            if dlm == \"'\":\n",
        "                height = round((feet * 12 + int(df_height[-1])) * 2.54, 0)\n",
        "            elif dlm != \"'\":\n",
        "                height = round((feet * 12 + int(df_height[-2:])) * 2.54, 0)\n",
        "        except ValueError:\n",
        "            height = 0\n",
        "        return height\n",
        "\n",
        "def height_to_int(df):\n",
        "    df['Height'] = df['Height'].apply(height_convert)\n",
        "    \n",
        "#One Hot Encoding of a feature\n",
        "def one_hot_encoding(df,column):\n",
        "    encoder = preprocessing.LabelEncoder()\n",
        "    df[column] = encoder.fit_transform(df[column].values)\n",
        "        \n",
        "\n",
        "#Drop columns that we are not interested in\n",
        "def drop_columns(df):\n",
        "    df.drop(df.loc[:, 'Unnamed: 0':'Name' ],axis=1, inplace = True)\n",
        "    df.drop(df.loc[:, 'Photo':'Flag'],axis=1, inplace = True)\n",
        "    df.drop(df.loc[:, 'Club':'Club Logo'],axis=1, inplace = True)\n",
        "    df.drop(['Preferred Foot', 'Wage'],axis=1, inplace = True)  \n",
        "    #df.drop(labels = 7,axis=1, inplace = True)  \n",
        "    \n",
        "    df.drop(df.loc[:, 'Work Rate':'Real Face' ],axis=1, inplace = True)\n",
        "    df.drop(df.loc[:, 'Jersey Number':'Contract Valid Until' ],axis=1, inplace = True)\n",
        "    df.drop(df.loc[:, 'LS':'RB'],axis=1, inplace = True)\n",
        "    df.drop(df.loc[:, 'GKDiving':'Release Clause'],axis=1, inplace = True)\n",
        "\n",
        "\n",
        "def transform_positions(df):\n",
        "    for i in ['ST', 'CF', 'LF', 'LS', 'LW', 'RF', 'RS', 'RW']:\n",
        "      df.loc[df.Position == i , 'Position'] = 'Striker' \n",
        "    \n",
        "    for i in ['CAM', 'CDM', 'LCM', 'CM', 'LAM', 'LDM', 'LM', 'RAM', 'RCM', 'RDM', 'RM']:\n",
        "      df.loc[df.Position == i , 'Position'] = 'Midfielder' \n",
        "    \n",
        "    for i in ['CB', 'LB', 'LCB', 'LWB', 'RB', 'RCB', 'RWB','GK']:\n",
        "      df.loc[df.Position == i , 'Position'] = 'Defender' "
      ],
      "execution_count": null,
      "outputs": []
    },
    {
      "cell_type": "code",
      "metadata": {
        "id": "j7wkQLb6xaIa"
      },
      "source": [
        "df= load_dataset(\"data2.csv\")\n",
        "# Drop columns that we are not interested in\n",
        "drop_columns(df)\n",
        "# Impute the data that is null\n",
        "impute_data(df)\n",
        "# transform weight and height to integer values\n",
        "weight_to_int(df)\n",
        "height_to_int(df)\n",
        "# apply the one hot encoding to the Preferred foot (L,R) => (0,1)\n",
        "#one_hot_encoding(df,'Preferred Foot')\n",
        "# transform position to striker, midfielder, defender\n",
        "#transform_positions(df)\n",
        "# show the 10 first rows\n",
        "#df.head(10)"
      ],
      "execution_count": null,
      "outputs": []
    },
    {
      "cell_type": "code",
      "metadata": {
        "colab": {
          "base_uri": "https://localhost:8080/",
          "height": 438
        },
        "id": "nVRA76_wxwVI",
        "outputId": "7a8cdc80-35dc-4b4e-b91e-3de5228d659f"
      },
      "source": [
        "df['Value'] = df['Value'].apply(parseValue)\n",
        "#df['Wage'] = df['Wage'].apply(parseValue)\n",
        "cols = list(df.columns)\n",
        "a, b = cols.index('Value'), cols.index('Age')\n",
        "cols[b], cols[a] = cols[a], cols[b]\n",
        "df = df[cols]\n",
        "df"
      ],
      "execution_count": null,
      "outputs": [
        {
          "output_type": "execute_result",
          "data": {
            "text/html": [
              "<div>\n",
              "<style scoped>\n",
              "    .dataframe tbody tr th:only-of-type {\n",
              "        vertical-align: middle;\n",
              "    }\n",
              "\n",
              "    .dataframe tbody tr th {\n",
              "        vertical-align: top;\n",
              "    }\n",
              "\n",
              "    .dataframe thead th {\n",
              "        text-align: right;\n",
              "    }\n",
              "</style>\n",
              "<table border=\"1\" class=\"dataframe\">\n",
              "  <thead>\n",
              "    <tr style=\"text-align: right;\">\n",
              "      <th></th>\n",
              "      <th>Value</th>\n",
              "      <th>Overall</th>\n",
              "      <th>Potential</th>\n",
              "      <th>Age</th>\n",
              "      <th>Special</th>\n",
              "      <th>International Reputation</th>\n",
              "      <th>Weak Foot</th>\n",
              "      <th>Skill Moves</th>\n",
              "      <th>Height</th>\n",
              "      <th>Weight</th>\n",
              "      <th>Crossing</th>\n",
              "      <th>Finishing</th>\n",
              "      <th>HeadingAccuracy</th>\n",
              "      <th>ShortPassing</th>\n",
              "      <th>Volleys</th>\n",
              "      <th>Dribbling</th>\n",
              "      <th>Curve</th>\n",
              "      <th>FKAccuracy</th>\n",
              "      <th>LongPassing</th>\n",
              "      <th>BallControl</th>\n",
              "      <th>Acceleration</th>\n",
              "      <th>SprintSpeed</th>\n",
              "      <th>Agility</th>\n",
              "      <th>Reactions</th>\n",
              "      <th>Balance</th>\n",
              "      <th>ShotPower</th>\n",
              "      <th>Jumping</th>\n",
              "      <th>Stamina</th>\n",
              "      <th>Strength</th>\n",
              "      <th>LongShots</th>\n",
              "      <th>Aggression</th>\n",
              "      <th>Interceptions</th>\n",
              "      <th>Positioning</th>\n",
              "      <th>Vision</th>\n",
              "      <th>Penalties</th>\n",
              "      <th>Composure</th>\n",
              "      <th>Marking</th>\n",
              "      <th>StandingTackle</th>\n",
              "      <th>SlidingTackle</th>\n",
              "    </tr>\n",
              "  </thead>\n",
              "  <tbody>\n",
              "    <tr>\n",
              "      <th>0</th>\n",
              "      <td>110500000.0</td>\n",
              "      <td>94</td>\n",
              "      <td>94</td>\n",
              "      <td>31</td>\n",
              "      <td>2202</td>\n",
              "      <td>5.0</td>\n",
              "      <td>4.0</td>\n",
              "      <td>4.0</td>\n",
              "      <td>170.0</td>\n",
              "      <td>159</td>\n",
              "      <td>84.0</td>\n",
              "      <td>95.0</td>\n",
              "      <td>70.0</td>\n",
              "      <td>90.0</td>\n",
              "      <td>86.0</td>\n",
              "      <td>97.0</td>\n",
              "      <td>93.0</td>\n",
              "      <td>94.0</td>\n",
              "      <td>87.0</td>\n",
              "      <td>96.0</td>\n",
              "      <td>91.0</td>\n",
              "      <td>86.0</td>\n",
              "      <td>91.0</td>\n",
              "      <td>95.0</td>\n",
              "      <td>95.0</td>\n",
              "      <td>85.0</td>\n",
              "      <td>68.0</td>\n",
              "      <td>72.0</td>\n",
              "      <td>59.0</td>\n",
              "      <td>94.0</td>\n",
              "      <td>48.0</td>\n",
              "      <td>22.0</td>\n",
              "      <td>94.0</td>\n",
              "      <td>94.0</td>\n",
              "      <td>75.0</td>\n",
              "      <td>96.0</td>\n",
              "      <td>33.0</td>\n",
              "      <td>28.0</td>\n",
              "      <td>26.0</td>\n",
              "    </tr>\n",
              "    <tr>\n",
              "      <th>1</th>\n",
              "      <td>77000000.0</td>\n",
              "      <td>94</td>\n",
              "      <td>94</td>\n",
              "      <td>33</td>\n",
              "      <td>2228</td>\n",
              "      <td>5.0</td>\n",
              "      <td>4.0</td>\n",
              "      <td>5.0</td>\n",
              "      <td>188.0</td>\n",
              "      <td>183</td>\n",
              "      <td>84.0</td>\n",
              "      <td>94.0</td>\n",
              "      <td>89.0</td>\n",
              "      <td>81.0</td>\n",
              "      <td>87.0</td>\n",
              "      <td>88.0</td>\n",
              "      <td>81.0</td>\n",
              "      <td>76.0</td>\n",
              "      <td>77.0</td>\n",
              "      <td>94.0</td>\n",
              "      <td>89.0</td>\n",
              "      <td>91.0</td>\n",
              "      <td>87.0</td>\n",
              "      <td>96.0</td>\n",
              "      <td>70.0</td>\n",
              "      <td>95.0</td>\n",
              "      <td>95.0</td>\n",
              "      <td>88.0</td>\n",
              "      <td>79.0</td>\n",
              "      <td>93.0</td>\n",
              "      <td>63.0</td>\n",
              "      <td>29.0</td>\n",
              "      <td>95.0</td>\n",
              "      <td>82.0</td>\n",
              "      <td>85.0</td>\n",
              "      <td>95.0</td>\n",
              "      <td>28.0</td>\n",
              "      <td>31.0</td>\n",
              "      <td>23.0</td>\n",
              "    </tr>\n",
              "    <tr>\n",
              "      <th>2</th>\n",
              "      <td>118500000.0</td>\n",
              "      <td>92</td>\n",
              "      <td>93</td>\n",
              "      <td>26</td>\n",
              "      <td>2143</td>\n",
              "      <td>5.0</td>\n",
              "      <td>5.0</td>\n",
              "      <td>5.0</td>\n",
              "      <td>175.0</td>\n",
              "      <td>150</td>\n",
              "      <td>79.0</td>\n",
              "      <td>87.0</td>\n",
              "      <td>62.0</td>\n",
              "      <td>84.0</td>\n",
              "      <td>84.0</td>\n",
              "      <td>96.0</td>\n",
              "      <td>88.0</td>\n",
              "      <td>87.0</td>\n",
              "      <td>78.0</td>\n",
              "      <td>95.0</td>\n",
              "      <td>94.0</td>\n",
              "      <td>90.0</td>\n",
              "      <td>96.0</td>\n",
              "      <td>94.0</td>\n",
              "      <td>84.0</td>\n",
              "      <td>80.0</td>\n",
              "      <td>61.0</td>\n",
              "      <td>81.0</td>\n",
              "      <td>49.0</td>\n",
              "      <td>82.0</td>\n",
              "      <td>56.0</td>\n",
              "      <td>36.0</td>\n",
              "      <td>89.0</td>\n",
              "      <td>87.0</td>\n",
              "      <td>81.0</td>\n",
              "      <td>94.0</td>\n",
              "      <td>27.0</td>\n",
              "      <td>24.0</td>\n",
              "      <td>33.0</td>\n",
              "    </tr>\n",
              "    <tr>\n",
              "      <th>3</th>\n",
              "      <td>72000000.0</td>\n",
              "      <td>91</td>\n",
              "      <td>93</td>\n",
              "      <td>27</td>\n",
              "      <td>1471</td>\n",
              "      <td>4.0</td>\n",
              "      <td>3.0</td>\n",
              "      <td>1.0</td>\n",
              "      <td>193.0</td>\n",
              "      <td>168</td>\n",
              "      <td>17.0</td>\n",
              "      <td>13.0</td>\n",
              "      <td>21.0</td>\n",
              "      <td>50.0</td>\n",
              "      <td>13.0</td>\n",
              "      <td>18.0</td>\n",
              "      <td>21.0</td>\n",
              "      <td>19.0</td>\n",
              "      <td>51.0</td>\n",
              "      <td>42.0</td>\n",
              "      <td>57.0</td>\n",
              "      <td>58.0</td>\n",
              "      <td>60.0</td>\n",
              "      <td>90.0</td>\n",
              "      <td>43.0</td>\n",
              "      <td>31.0</td>\n",
              "      <td>67.0</td>\n",
              "      <td>43.0</td>\n",
              "      <td>64.0</td>\n",
              "      <td>12.0</td>\n",
              "      <td>38.0</td>\n",
              "      <td>30.0</td>\n",
              "      <td>12.0</td>\n",
              "      <td>68.0</td>\n",
              "      <td>40.0</td>\n",
              "      <td>68.0</td>\n",
              "      <td>15.0</td>\n",
              "      <td>21.0</td>\n",
              "      <td>13.0</td>\n",
              "    </tr>\n",
              "    <tr>\n",
              "      <th>4</th>\n",
              "      <td>102000000.0</td>\n",
              "      <td>91</td>\n",
              "      <td>92</td>\n",
              "      <td>27</td>\n",
              "      <td>2281</td>\n",
              "      <td>4.0</td>\n",
              "      <td>5.0</td>\n",
              "      <td>4.0</td>\n",
              "      <td>180.0</td>\n",
              "      <td>154</td>\n",
              "      <td>93.0</td>\n",
              "      <td>82.0</td>\n",
              "      <td>55.0</td>\n",
              "      <td>92.0</td>\n",
              "      <td>82.0</td>\n",
              "      <td>86.0</td>\n",
              "      <td>85.0</td>\n",
              "      <td>83.0</td>\n",
              "      <td>91.0</td>\n",
              "      <td>91.0</td>\n",
              "      <td>78.0</td>\n",
              "      <td>76.0</td>\n",
              "      <td>79.0</td>\n",
              "      <td>91.0</td>\n",
              "      <td>77.0</td>\n",
              "      <td>91.0</td>\n",
              "      <td>63.0</td>\n",
              "      <td>90.0</td>\n",
              "      <td>75.0</td>\n",
              "      <td>91.0</td>\n",
              "      <td>76.0</td>\n",
              "      <td>61.0</td>\n",
              "      <td>87.0</td>\n",
              "      <td>94.0</td>\n",
              "      <td>79.0</td>\n",
              "      <td>88.0</td>\n",
              "      <td>68.0</td>\n",
              "      <td>58.0</td>\n",
              "      <td>51.0</td>\n",
              "    </tr>\n",
              "    <tr>\n",
              "      <th>...</th>\n",
              "      <td>...</td>\n",
              "      <td>...</td>\n",
              "      <td>...</td>\n",
              "      <td>...</td>\n",
              "      <td>...</td>\n",
              "      <td>...</td>\n",
              "      <td>...</td>\n",
              "      <td>...</td>\n",
              "      <td>...</td>\n",
              "      <td>...</td>\n",
              "      <td>...</td>\n",
              "      <td>...</td>\n",
              "      <td>...</td>\n",
              "      <td>...</td>\n",
              "      <td>...</td>\n",
              "      <td>...</td>\n",
              "      <td>...</td>\n",
              "      <td>...</td>\n",
              "      <td>...</td>\n",
              "      <td>...</td>\n",
              "      <td>...</td>\n",
              "      <td>...</td>\n",
              "      <td>...</td>\n",
              "      <td>...</td>\n",
              "      <td>...</td>\n",
              "      <td>...</td>\n",
              "      <td>...</td>\n",
              "      <td>...</td>\n",
              "      <td>...</td>\n",
              "      <td>...</td>\n",
              "      <td>...</td>\n",
              "      <td>...</td>\n",
              "      <td>...</td>\n",
              "      <td>...</td>\n",
              "      <td>...</td>\n",
              "      <td>...</td>\n",
              "      <td>...</td>\n",
              "      <td>...</td>\n",
              "      <td>...</td>\n",
              "    </tr>\n",
              "    <tr>\n",
              "      <th>18202</th>\n",
              "      <td>60000.0</td>\n",
              "      <td>47</td>\n",
              "      <td>65</td>\n",
              "      <td>19</td>\n",
              "      <td>1307</td>\n",
              "      <td>1.0</td>\n",
              "      <td>2.0</td>\n",
              "      <td>2.0</td>\n",
              "      <td>175.0</td>\n",
              "      <td>134</td>\n",
              "      <td>34.0</td>\n",
              "      <td>38.0</td>\n",
              "      <td>40.0</td>\n",
              "      <td>49.0</td>\n",
              "      <td>25.0</td>\n",
              "      <td>42.0</td>\n",
              "      <td>30.0</td>\n",
              "      <td>34.0</td>\n",
              "      <td>45.0</td>\n",
              "      <td>43.0</td>\n",
              "      <td>54.0</td>\n",
              "      <td>57.0</td>\n",
              "      <td>60.0</td>\n",
              "      <td>49.0</td>\n",
              "      <td>76.0</td>\n",
              "      <td>43.0</td>\n",
              "      <td>55.0</td>\n",
              "      <td>40.0</td>\n",
              "      <td>47.0</td>\n",
              "      <td>38.0</td>\n",
              "      <td>46.0</td>\n",
              "      <td>46.0</td>\n",
              "      <td>39.0</td>\n",
              "      <td>52.0</td>\n",
              "      <td>43.0</td>\n",
              "      <td>45.0</td>\n",
              "      <td>40.0</td>\n",
              "      <td>48.0</td>\n",
              "      <td>47.0</td>\n",
              "    </tr>\n",
              "    <tr>\n",
              "      <th>18203</th>\n",
              "      <td>60000.0</td>\n",
              "      <td>47</td>\n",
              "      <td>63</td>\n",
              "      <td>19</td>\n",
              "      <td>1098</td>\n",
              "      <td>1.0</td>\n",
              "      <td>2.0</td>\n",
              "      <td>2.0</td>\n",
              "      <td>190.0</td>\n",
              "      <td>170</td>\n",
              "      <td>23.0</td>\n",
              "      <td>52.0</td>\n",
              "      <td>52.0</td>\n",
              "      <td>43.0</td>\n",
              "      <td>36.0</td>\n",
              "      <td>39.0</td>\n",
              "      <td>32.0</td>\n",
              "      <td>20.0</td>\n",
              "      <td>25.0</td>\n",
              "      <td>40.0</td>\n",
              "      <td>41.0</td>\n",
              "      <td>39.0</td>\n",
              "      <td>38.0</td>\n",
              "      <td>40.0</td>\n",
              "      <td>52.0</td>\n",
              "      <td>41.0</td>\n",
              "      <td>47.0</td>\n",
              "      <td>43.0</td>\n",
              "      <td>67.0</td>\n",
              "      <td>42.0</td>\n",
              "      <td>47.0</td>\n",
              "      <td>16.0</td>\n",
              "      <td>46.0</td>\n",
              "      <td>33.0</td>\n",
              "      <td>43.0</td>\n",
              "      <td>42.0</td>\n",
              "      <td>22.0</td>\n",
              "      <td>15.0</td>\n",
              "      <td>19.0</td>\n",
              "    </tr>\n",
              "    <tr>\n",
              "      <th>18204</th>\n",
              "      <td>60000.0</td>\n",
              "      <td>47</td>\n",
              "      <td>67</td>\n",
              "      <td>16</td>\n",
              "      <td>1189</td>\n",
              "      <td>1.0</td>\n",
              "      <td>3.0</td>\n",
              "      <td>2.0</td>\n",
              "      <td>173.0</td>\n",
              "      <td>148</td>\n",
              "      <td>25.0</td>\n",
              "      <td>40.0</td>\n",
              "      <td>46.0</td>\n",
              "      <td>38.0</td>\n",
              "      <td>38.0</td>\n",
              "      <td>45.0</td>\n",
              "      <td>38.0</td>\n",
              "      <td>27.0</td>\n",
              "      <td>28.0</td>\n",
              "      <td>44.0</td>\n",
              "      <td>70.0</td>\n",
              "      <td>69.0</td>\n",
              "      <td>50.0</td>\n",
              "      <td>47.0</td>\n",
              "      <td>58.0</td>\n",
              "      <td>45.0</td>\n",
              "      <td>60.0</td>\n",
              "      <td>55.0</td>\n",
              "      <td>32.0</td>\n",
              "      <td>45.0</td>\n",
              "      <td>32.0</td>\n",
              "      <td>15.0</td>\n",
              "      <td>48.0</td>\n",
              "      <td>43.0</td>\n",
              "      <td>55.0</td>\n",
              "      <td>41.0</td>\n",
              "      <td>32.0</td>\n",
              "      <td>13.0</td>\n",
              "      <td>11.0</td>\n",
              "    </tr>\n",
              "    <tr>\n",
              "      <th>18205</th>\n",
              "      <td>60000.0</td>\n",
              "      <td>47</td>\n",
              "      <td>66</td>\n",
              "      <td>17</td>\n",
              "      <td>1228</td>\n",
              "      <td>1.0</td>\n",
              "      <td>3.0</td>\n",
              "      <td>2.0</td>\n",
              "      <td>178.0</td>\n",
              "      <td>154</td>\n",
              "      <td>44.0</td>\n",
              "      <td>50.0</td>\n",
              "      <td>39.0</td>\n",
              "      <td>42.0</td>\n",
              "      <td>40.0</td>\n",
              "      <td>51.0</td>\n",
              "      <td>34.0</td>\n",
              "      <td>32.0</td>\n",
              "      <td>32.0</td>\n",
              "      <td>52.0</td>\n",
              "      <td>61.0</td>\n",
              "      <td>60.0</td>\n",
              "      <td>52.0</td>\n",
              "      <td>21.0</td>\n",
              "      <td>71.0</td>\n",
              "      <td>64.0</td>\n",
              "      <td>42.0</td>\n",
              "      <td>40.0</td>\n",
              "      <td>48.0</td>\n",
              "      <td>34.0</td>\n",
              "      <td>33.0</td>\n",
              "      <td>22.0</td>\n",
              "      <td>44.0</td>\n",
              "      <td>47.0</td>\n",
              "      <td>50.0</td>\n",
              "      <td>46.0</td>\n",
              "      <td>20.0</td>\n",
              "      <td>25.0</td>\n",
              "      <td>27.0</td>\n",
              "    </tr>\n",
              "    <tr>\n",
              "      <th>18206</th>\n",
              "      <td>60000.0</td>\n",
              "      <td>46</td>\n",
              "      <td>66</td>\n",
              "      <td>16</td>\n",
              "      <td>1321</td>\n",
              "      <td>1.0</td>\n",
              "      <td>3.0</td>\n",
              "      <td>2.0</td>\n",
              "      <td>178.0</td>\n",
              "      <td>176</td>\n",
              "      <td>41.0</td>\n",
              "      <td>34.0</td>\n",
              "      <td>46.0</td>\n",
              "      <td>48.0</td>\n",
              "      <td>30.0</td>\n",
              "      <td>43.0</td>\n",
              "      <td>40.0</td>\n",
              "      <td>34.0</td>\n",
              "      <td>44.0</td>\n",
              "      <td>51.0</td>\n",
              "      <td>57.0</td>\n",
              "      <td>55.0</td>\n",
              "      <td>55.0</td>\n",
              "      <td>51.0</td>\n",
              "      <td>63.0</td>\n",
              "      <td>43.0</td>\n",
              "      <td>62.0</td>\n",
              "      <td>47.0</td>\n",
              "      <td>60.0</td>\n",
              "      <td>32.0</td>\n",
              "      <td>56.0</td>\n",
              "      <td>42.0</td>\n",
              "      <td>34.0</td>\n",
              "      <td>49.0</td>\n",
              "      <td>33.0</td>\n",
              "      <td>43.0</td>\n",
              "      <td>40.0</td>\n",
              "      <td>43.0</td>\n",
              "      <td>50.0</td>\n",
              "    </tr>\n",
              "  </tbody>\n",
              "</table>\n",
              "<p>18159 rows × 39 columns</p>\n",
              "</div>"
            ],
            "text/plain": [
              "             Value  Overall  Potential  ...  Marking  StandingTackle  SlidingTackle\n",
              "0      110500000.0       94         94  ...     33.0            28.0           26.0\n",
              "1       77000000.0       94         94  ...     28.0            31.0           23.0\n",
              "2      118500000.0       92         93  ...     27.0            24.0           33.0\n",
              "3       72000000.0       91         93  ...     15.0            21.0           13.0\n",
              "4      102000000.0       91         92  ...     68.0            58.0           51.0\n",
              "...            ...      ...        ...  ...      ...             ...            ...\n",
              "18202      60000.0       47         65  ...     40.0            48.0           47.0\n",
              "18203      60000.0       47         63  ...     22.0            15.0           19.0\n",
              "18204      60000.0       47         67  ...     32.0            13.0           11.0\n",
              "18205      60000.0       47         66  ...     20.0            25.0           27.0\n",
              "18206      60000.0       46         66  ...     40.0            43.0           50.0\n",
              "\n",
              "[18159 rows x 39 columns]"
            ]
          },
          "metadata": {
            "tags": []
          },
          "execution_count": 133
        }
      ]
    },
    {
      "cell_type": "code",
      "metadata": {
        "colab": {
          "base_uri": "https://localhost:8080/"
        },
        "id": "xr672MVnyG8d",
        "outputId": "c6565363-a036-417c-a875-b071fa28dc5f"
      },
      "source": [
        "X = df.iloc[:, 1:]\n",
        "Y = df.iloc[:, [0]]\n",
        "from sklearn.preprocessing import StandardScaler\n",
        "#x = breast_dataset.loc[:, features].values\n",
        "X = StandardScaler().fit_transform(X) # normalizing the features\n",
        "Y = StandardScaler().fit_transform(Y)\n",
        "Y"
      ],
      "execution_count": null,
      "outputs": [
        {
          "output_type": "execute_result",
          "data": {
            "text/plain": [
              "array([[19.29667626],\n",
              "       [13.3157777 ],\n",
              "       [20.72495055],\n",
              "       ...,\n",
              "       [-0.42065024],\n",
              "       [-0.42065024],\n",
              "       [-0.42065024]])"
            ]
          },
          "metadata": {
            "tags": []
          },
          "execution_count": 149
        }
      ]
    },
    {
      "cell_type": "markdown",
      "metadata": {
        "id": "qyW9McgOabx-"
      },
      "source": [
        "# **Feature Selection**"
      ]
    },
    {
      "cell_type": "code",
      "metadata": {
        "colab": {
          "base_uri": "https://localhost:8080/",
          "height": 1000
        },
        "id": "EsR5vAdA4T3W",
        "outputId": "fc56b70d-7ec3-4584-a43f-2bd3cde68003"
      },
      "source": [
        "Xdf = pd.DataFrame(X)\n",
        "corr_mat  = df.corr(method = 'spearman')\n",
        "corr_mat.shape\n",
        "sns.heatmap(corr_mat, xticklabels=corr_mat.columns, yticklabels=corr_mat.columns)\n",
        "value_corr = corr_mat.iloc[:, 0]\n",
        "value_corr"
      ],
      "execution_count": null,
      "outputs": [
        {
          "output_type": "execute_result",
          "data": {
            "text/plain": [
              "Value                       1.000000\n",
              "Overall                     0.908254\n",
              "Potential                   0.752649\n",
              "Age                         0.212127\n",
              "Special                     0.649267\n",
              "International Reputation    0.378146\n",
              "Weak Foot                   0.216981\n",
              "Skill Moves                 0.492008\n",
              "Height                     -0.010404\n",
              "Weight                      0.064405\n",
              "Crossing                    0.451389\n",
              "Finishing                   0.407453\n",
              "HeadingAccuracy             0.380854\n",
              "ShortPassing                0.620498\n",
              "Volleys                     0.425168\n",
              "Dribbling                   0.561060\n",
              "Curve                       0.458710\n",
              "FKAccuracy                  0.397541\n",
              "LongPassing                 0.505287\n",
              "BallControl                 0.657951\n",
              "Acceleration                0.292805\n",
              "SprintSpeed                 0.309278\n",
              "Agility                     0.335488\n",
              "Reactions                   0.747545\n",
              "Balance                     0.166979\n",
              "ShotPower                   0.525239\n",
              "Jumping                     0.245037\n",
              "Stamina                     0.420474\n",
              "Strength                    0.272186\n",
              "LongShots                   0.485295\n",
              "Aggression                  0.361670\n",
              "Interceptions               0.311150\n",
              "Positioning                 0.483189\n",
              "Vision                      0.522427\n",
              "Penalties                   0.372434\n",
              "Composure                   0.679852\n",
              "Marking                     0.279952\n",
              "StandingTackle              0.278883\n",
              "SlidingTackle               0.243681\n",
              "Name: Value, dtype: float64"
            ]
          },
          "metadata": {
            "tags": []
          },
          "execution_count": 135
        },
        {
          "output_type": "display_data",
          "data": {
            "image/png": "[encoded data removed]",
            "text/plain": [
              "<Figure size 432x288 with 2 Axes>"
            ]
          },
          "metadata": {
            "tags": [],
            "needs_background": "light"
          }
        }
      ]
    },
    {
      "cell_type": "code",
      "metadata": {
        "id": "w4N2lZ4IFpsm"
      },
      "source": [
        ""
      ],
      "execution_count": null,
      "outputs": []
    },
    {
      "cell_type": "markdown",
      "metadata": {
        "id": "jrkd01gFFHjE"
      },
      "source": [
        "# ***`Based on above Spearman Correlation matrix the selected features are `***"
      ]
    },
    {
      "cell_type": "code",
      "metadata": {
        "id": "kbQAXF-lFG-z"
      },
      "source": [
        "features = ['Special' , 'BallControl' , \"Overall\", \"Potential\", \"Reactions\", \"Composure\", 'ShortPassing']\n",
        "\n",
        "Xnew = df.loc[:, features]\n",
        "#Xnew_scaled = StandardScaler().fit_transform(X)"
      ],
      "execution_count": null,
      "outputs": []
    },
    {
      "cell_type": "code",
      "metadata": {
        "colab": {
          "base_uri": "https://localhost:8080/"
        },
        "id": "QPPcSUxCQaQR",
        "outputId": "e960c03d-3a05-4202-de8f-0b87678d50f2"
      },
      "source": [
        "np.random.seed(1)\n",
        "train_set, test_set = train_test_split(df, test_size=0.2, random_state=42)\n",
        "\n",
        "fifa_dataset_features = train_set.loc[:, features]\n",
        "fifa_dataset_labels = train_set.loc[:, 'Value']\n",
        "#fifa_dataset_labels"
      ],
      "execution_count": null,
      "outputs": [
        {
          "output_type": "execute_result",
          "data": {
            "text/plain": [
              "1333      4800000.0\n",
              "15306      300000.0\n",
              "509      10000000.0\n",
              "3410      4300000.0\n",
              "10217      575000.0\n",
              "            ...    \n",
              "11284      575000.0\n",
              "11964      675000.0\n",
              "5390      2400000.0\n",
              "860       9500000.0\n",
              "15843      260000.0\n",
              "Name: Value, Length: 14527, dtype: float64"
            ]
          },
          "metadata": {
            "tags": []
          },
          "execution_count": 154
        }
      ]
    },
    {
      "cell_type": "code",
      "metadata": {
        "colab": {
          "base_uri": "https://localhost:8080/"
        },
        "id": "LxeaQI_kOZRE",
        "outputId": "a6d6b494-b136-4b1a-f055-1f57bf44a010"
      },
      "source": [
        "lin_reg = LinearRegression()\n",
        "lin_reg.fit(fifa_dataset_features, fifa_dataset_labels)"
      ],
      "execution_count": null,
      "outputs": [
        {
          "output_type": "execute_result",
          "data": {
            "text/plain": [
              "LinearRegression(copy_X=True, fit_intercept=True, n_jobs=None, normalize=False)"
            ]
          },
          "metadata": {
            "tags": []
          },
          "execution_count": 155
        }
      ]
    },
    {
      "cell_type": "code",
      "metadata": {
        "colab": {
          "base_uri": "https://localhost:8080/"
        },
        "id": "cMVid8tWPF4Q",
        "outputId": "c551fce1-0ca0-41af-c7c9-46895ac14d6e"
      },
      "source": [
        "fifa_dataset_predictions = lin_reg.predict(fifa_dataset_features)\n",
        "lin_mse = mean_squared_error(fifa_dataset_labels, fifa_dataset_predictions)\n",
        "lin_rmse = np.sqrt(lin_mse)\n",
        "lin_rmse"
      ],
      "execution_count": null,
      "outputs": [
        {
          "output_type": "execute_result",
          "data": {
            "text/plain": [
              "4197198.152207194"
            ]
          },
          "metadata": {
            "tags": []
          },
          "execution_count": 156
        }
      ]
    },
    {
      "cell_type": "code",
      "metadata": {
        "colab": {
          "base_uri": "https://localhost:8080/"
        },
        "id": "93aSE1ZFPzaD",
        "outputId": "4bbf2011-7fce-4170-b494-122ffe76630c"
      },
      "source": [
        "score = r2_score(fifa_dataset_labels, fifa_dataset_predictions)  \n",
        "print('Accuracy:',format(score*100,'.2f'),'%')"
      ],
      "execution_count": null,
      "outputs": [
        {
          "output_type": "stream",
          "text": [
            "Accuracy: 44.20 %\n"
          ],
          "name": "stdout"
        }
      ]
    },
    {
      "cell_type": "code",
      "metadata": {
        "colab": {
          "base_uri": "https://localhost:8080/"
        },
        "id": "pbZPJVMrRvhX",
        "outputId": "9c87a57e-2a98-4485-c015-47b089e991ca"
      },
      "source": [
        "tree_reg = DecisionTreeRegressor(random_state=42)\n",
        "tree_reg.fit(fifa_dataset_features, fifa_dataset_labels)"
      ],
      "execution_count": null,
      "outputs": [
        {
          "output_type": "execute_result",
          "data": {
            "text/plain": [
              "DecisionTreeRegressor(ccp_alpha=0.0, criterion='mse', max_depth=None,\n",
              "                      max_features=None, max_leaf_nodes=None,\n",
              "                      min_impurity_decrease=0.0, min_impurity_split=None,\n",
              "                      min_samples_leaf=1, min_samples_split=2,\n",
              "                      min_weight_fraction_leaf=0.0, presort='deprecated',\n",
              "                      random_state=42, splitter='best')"
            ]
          },
          "metadata": {
            "tags": []
          },
          "execution_count": 158
        }
      ]
    },
    {
      "cell_type": "code",
      "metadata": {
        "colab": {
          "base_uri": "https://localhost:8080/"
        },
        "id": "oYIYCIqBRzuD",
        "outputId": "a0d9fa92-ce1e-45f0-cf8c-f99c00fa279c"
      },
      "source": [
        "fifa_dataset_predictions = tree_reg.predict(fifa_dataset_features)\n",
        "tree_mse = mean_squared_error(fifa_dataset_labels, fifa_dataset_predictions)\n",
        "tree_rmse = np.sqrt(tree_mse)\n",
        "print('Training RMSE', tree_rmse)\n"
      ],
      "execution_count": null,
      "outputs": [
        {
          "output_type": "stream",
          "text": [
            "Training RMSE 0.0\n"
          ],
          "name": "stdout"
        }
      ]
    },
    {
      "cell_type": "code",
      "metadata": {
        "colab": {
          "base_uri": "https://localhost:8080/"
        },
        "id": "OJd2jOkZSPbx",
        "outputId": "90a31a4d-e8b8-4a7a-924b-1ccb4c3d35bc"
      },
      "source": [
        "score = r2_score(fifa_dataset_labels, fifa_dataset_predictions)  \n",
        "print('Training Accuracy:',format(score*100,'.2f'),'%')"
      ],
      "execution_count": null,
      "outputs": [
        {
          "output_type": "stream",
          "text": [
            "Accuracy: 100.00 %\n"
          ],
          "name": "stdout"
        }
      ]
    },
    {
      "cell_type": "code",
      "metadata": {
        "colab": {
          "base_uri": "https://localhost:8080/"
        },
        "id": "IteWdNOqSUBJ",
        "outputId": "a452241b-09fe-4b43-d0f2-12efdba9e3e3"
      },
      "source": [
        "forest_reg = RandomForestRegressor(n_estimators=100, random_state=42)\n",
        "forest_reg.fit(fifa_dataset_features, fifa_dataset_labels)"
      ],
      "execution_count": null,
      "outputs": [
        {
          "output_type": "execute_result",
          "data": {
            "text/plain": [
              "RandomForestRegressor(bootstrap=True, ccp_alpha=0.0, criterion='mse',\n",
              "                      max_depth=None, max_features='auto', max_leaf_nodes=None,\n",
              "                      max_samples=None, min_impurity_decrease=0.0,\n",
              "                      min_impurity_split=None, min_samples_leaf=1,\n",
              "                      min_samples_split=2, min_weight_fraction_leaf=0.0,\n",
              "                      n_estimators=100, n_jobs=None, oob_score=False,\n",
              "                      random_state=42, verbose=0, warm_start=False)"
            ]
          },
          "metadata": {
            "tags": []
          },
          "execution_count": 162
        }
      ]
    },
    {
      "cell_type": "code",
      "metadata": {
        "colab": {
          "base_uri": "https://localhost:8080/"
        },
        "id": "rz-VcLQQSmNt",
        "outputId": "9f6979c5-39ed-4016-f54f-17c44f3d5668"
      },
      "source": [
        "fifa_dataset_predictions = forest_reg.predict(fifa_dataset_features)\n",
        "forest_mse = mean_squared_error(fifa_dataset_labels, fifa_dataset_predictions)\n",
        "forest_rmse = np.sqrt(forest_mse)\n",
        "forest_rmse"
      ],
      "execution_count": null,
      "outputs": [
        {
          "output_type": "execute_result",
          "data": {
            "text/plain": [
              "433690.9959282443"
            ]
          },
          "metadata": {
            "tags": []
          },
          "execution_count": 163
        }
      ]
    },
    {
      "cell_type": "code",
      "metadata": {
        "colab": {
          "base_uri": "https://localhost:8080/"
        },
        "id": "heW7cRX9Sqns",
        "outputId": "6f54b8fc-5d57-4e63-ef7d-169d15ada78f"
      },
      "source": [
        "score = r2_score(fifa_dataset_labels, fifa_dataset_predictions)  \n",
        "print('Traingn Accuracy:',format(score*100,'.2f'),'%')"
      ],
      "execution_count": null,
      "outputs": [
        {
          "output_type": "stream",
          "text": [
            "Traingn Accuracy: 99.40 %\n"
          ],
          "name": "stdout"
        }
      ]
    },
    {
      "cell_type": "code",
      "metadata": {
        "colab": {
          "base_uri": "https://localhost:8080/"
        },
        "id": "_s7e3YaGTZSO",
        "outputId": "1c06f276-0f65-4ce0-c42e-01bb60f32492"
      },
      "source": [
        "scores = cross_val_score(tree_reg, fifa_dataset_features, fifa_dataset_labels,\n",
        "                         scoring=\"neg_mean_squared_error\", cv=10)\n",
        "tree_rmse_scores = np.sqrt(-scores)\n",
        "def display_scores(scores):\n",
        "    print(\"Scores:\", scores)\n",
        "    print(\"Mean:\", scores.mean())\n",
        "    print(\"Standard deviation:\", scores.std())\n",
        "\n",
        "display_scores(tree_rmse_scores)"
      ],
      "execution_count": null,
      "outputs": [
        {
          "output_type": "stream",
          "text": [
            "Scores: [2135749.04538406 1268110.06283058 1236961.48960758 1648308.56598491\n",
            " 1994576.58504586 1750494.31127101 1830169.46909732 1530974.20774923\n",
            " 1199460.12735207 1519928.93596565]\n",
            "Mean: 1611473.2800288263\n",
            "Standard deviation: 305437.0008073211\n"
          ],
          "name": "stdout"
        }
      ]
    },
    {
      "cell_type": "code",
      "metadata": {
        "colab": {
          "base_uri": "https://localhost:8080/"
        },
        "id": "6_9mnLQAWkee",
        "outputId": "d1fb0591-362e-49c2-eb3f-a43e4ea8dec4"
      },
      "source": [
        "lin_scores = cross_val_score(lin_reg, fifa_dataset_features, fifa_dataset_labels,\n",
        "                             scoring=\"neg_mean_squared_error\", cv=10)\n",
        "lin_rmse_scores = np.sqrt(-lin_scores)\n",
        "display_scores(lin_rmse_scores)"
      ],
      "execution_count": null,
      "outputs": [
        {
          "output_type": "stream",
          "text": [
            "Scores: [5139208.2800409  3145280.0733812  4011629.876628   4289273.32750454\n",
            " 4461300.03491738 3731257.14032766 4626279.91545736 3941525.29284553\n",
            " 4486846.97560464 3842923.29573896]\n",
            "Mean: 4167552.421244616\n",
            "Standard deviation: 526666.6090667051\n"
          ],
          "name": "stdout"
        }
      ]
    },
    {
      "cell_type": "code",
      "metadata": {
        "colab": {
          "base_uri": "https://localhost:8080/"
        },
        "id": "qbHWRI0GWr2J",
        "outputId": "744bf61d-32a8-4ac7-af41-b6d3018026f4"
      },
      "source": [
        "forest_scores = cross_val_score(forest_reg, fifa_dataset_features, fifa_dataset_labels,\n",
        "                                scoring=\"neg_mean_squared_error\", cv=10)\n",
        "forest_rmse_scores = np.sqrt(-forest_scores)\n",
        "display_scores(forest_rmse_scores)"
      ],
      "execution_count": null,
      "outputs": [
        {
          "output_type": "stream",
          "text": [
            "Scores: [1375848.2195666   967943.85820011  898728.65830159 1305853.34084759\n",
            " 1424807.37770525 1065253.68005463 1479516.62333573 1189609.93657516\n",
            "  884544.62660936 1104943.94227018]\n",
            "Mean: 1169705.0263466216\n",
            "Standard deviation: 208097.16882822657\n"
          ],
          "name": "stdout"
        }
      ]
    },
    {
      "cell_type": "markdown",
      "metadata": {
        "id": "S8Re3cvmX-q6"
      },
      "source": [
        "# **GRID search for best model and parameters, Since Random forest if giving us satisfactory validation scores, we will fine tune our model using RandomForestRegressor**"
      ]
    },
    {
      "cell_type": "code",
      "metadata": {
        "colab": {
          "base_uri": "https://localhost:8080/"
        },
        "id": "TmM4Gf2YX6ds",
        "outputId": "90f99776-ffdb-4445-feaa-989f03fe4cce"
      },
      "source": [
        "param_grid = [\n",
        "    {'n_estimators': [3, 10, 30], 'max_features': [2, 3, 4]},\n",
        "    {'bootstrap': [False], 'n_estimators': [3, 10], 'max_features': [2, 3, 4]},\n",
        "  ]\n",
        "\n",
        "forest_reg = RandomForestRegressor(random_state=42)\n",
        "\n",
        "grid_search = GridSearchCV(forest_reg, param_grid, cv=5,\n",
        "                           scoring='neg_mean_squared_error',\n",
        "                           return_train_score=True)\n",
        "grid_search.fit(fifa_dataset_features, fifa_dataset_labels)"
      ],
      "execution_count": null,
      "outputs": [
        {
          "output_type": "execute_result",
          "data": {
            "text/plain": [
              "GridSearchCV(cv=5, error_score=nan,\n",
              "             estimator=RandomForestRegressor(bootstrap=True, ccp_alpha=0.0,\n",
              "                                             criterion='mse', max_depth=None,\n",
              "                                             max_features='auto',\n",
              "                                             max_leaf_nodes=None,\n",
              "                                             max_samples=None,\n",
              "                                             min_impurity_decrease=0.0,\n",
              "                                             min_impurity_split=None,\n",
              "                                             min_samples_leaf=1,\n",
              "                                             min_samples_split=2,\n",
              "                                             min_weight_fraction_leaf=0.0,\n",
              "                                             n_estimators=100, n_jobs=None,\n",
              "                                             oob_score=False, random_state=42,\n",
              "                                             verbose=0, warm_start=False),\n",
              "             iid='deprecated', n_jobs=None,\n",
              "             param_grid=[{'max_features': [2, 3, 4],\n",
              "                          'n_estimators': [3, 10, 30]},\n",
              "                         {'bootstrap': [False], 'max_features': [2, 3, 4],\n",
              "                          'n_estimators': [3, 10]}],\n",
              "             pre_dispatch='2*n_jobs', refit=True, return_train_score=True,\n",
              "             scoring='neg_mean_squared_error', verbose=0)"
            ]
          },
          "metadata": {
            "tags": []
          },
          "execution_count": 176
        }
      ]
    },
    {
      "cell_type": "code",
      "metadata": {
        "colab": {
          "base_uri": "https://localhost:8080/"
        },
        "id": "kwC0OPdiYDJ-",
        "outputId": "f2f5ed67-f6a0-4f76-b28a-f27459407a1d"
      },
      "source": [
        "grid_search.best_params_"
      ],
      "execution_count": null,
      "outputs": [
        {
          "output_type": "execute_result",
          "data": {
            "text/plain": [
              "{'max_features': 4, 'n_estimators': 30}"
            ]
          },
          "metadata": {
            "tags": []
          },
          "execution_count": 177
        }
      ]
    },
    {
      "cell_type": "code",
      "metadata": {
        "colab": {
          "base_uri": "https://localhost:8080/"
        },
        "id": "C15pgs8FYLw9",
        "outputId": "fba0cfa2-0e6b-4e63-a627-cee59dd1ba2d"
      },
      "source": [
        "grid_search.best_estimator_\n"
      ],
      "execution_count": null,
      "outputs": [
        {
          "output_type": "execute_result",
          "data": {
            "text/plain": [
              "RandomForestRegressor(bootstrap=True, ccp_alpha=0.0, criterion='mse',\n",
              "                      max_depth=None, max_features=4, max_leaf_nodes=None,\n",
              "                      max_samples=None, min_impurity_decrease=0.0,\n",
              "                      min_impurity_split=None, min_samples_leaf=1,\n",
              "                      min_samples_split=2, min_weight_fraction_leaf=0.0,\n",
              "                      n_estimators=30, n_jobs=None, oob_score=False,\n",
              "                      random_state=42, verbose=0, warm_start=False)"
            ]
          },
          "metadata": {
            "tags": []
          },
          "execution_count": 180
        }
      ]
    },
    {
      "cell_type": "markdown",
      "metadata": {
        "id": "TqkKAbZzaRxf"
      },
      "source": [
        "# **Evaluation of  the model on the Test Set**"
      ]
    },
    {
      "cell_type": "code",
      "metadata": {
        "colab": {
          "base_uri": "https://localhost:8080/"
        },
        "id": "jCdZqc-KaROc",
        "outputId": "1dee85a9-5586-426d-fc9d-554c2b5abeea"
      },
      "source": [
        "fifa_dataset_features = test_set.loc[:, features]\n",
        "fifa_dataset_labels = test_set.loc[:, \"Value\"]\n",
        "final_model = grid_search.best_estimator_\n",
        "\n",
        "final_predictions = final_model.predict(fifa_dataset_features)\n",
        "\n",
        "final_mse = mean_squared_error(fifa_dataset_labels, final_predictions)\n",
        "final_rmse = np.sqrt(final_mse)\n",
        "final_rmse"
      ],
      "execution_count": null,
      "outputs": [
        {
          "output_type": "execute_result",
          "data": {
            "text/plain": [
              "1167580.028581133"
            ]
          },
          "metadata": {
            "tags": []
          },
          "execution_count": 182
        }
      ]
    },
    {
      "cell_type": "markdown",
      "metadata": {
        "id": "knMp4Jq-cIo5"
      },
      "source": [
        "# Note that the final Test RMSE Value is of the range of 1 Million, Which makes the model extremely good since player values range from 1 million to 150Mil"
      ]
    },
    {
      "cell_type": "code",
      "metadata": {
        "colab": {
          "base_uri": "https://localhost:8080/"
        },
        "id": "40L7d2PSe0-L",
        "outputId": "d8f9b5e0-fb0d-4967-f792-f33995eddede"
      },
      "source": [
        "final_model_score = r2_score(fifa_dataset_labels, final_predictions)  \n",
        "print('Accuracy:',format(final_model_score*100,'.2f'),'%')"
      ],
      "execution_count": null,
      "outputs": [
        {
          "output_type": "stream",
          "text": [
            "Accuracy: 95.54 %\n"
          ],
          "name": "stdout"
        }
      ]
    },
    {
      "cell_type": "markdown",
      "metadata": {
        "id": "vexOMyLdfZYB"
      },
      "source": [
        "## **Thus this model can potentially predict Player wages with Test R2 score of 95% and with a fairly low Test RMSE Value**"
      ]
    },
    {
      "cell_type": "code",
      "metadata": {
        "id": "Ox29mFEffS0M"
      },
      "source": [
        ""
      ],
      "execution_count": null,
      "outputs": []
    }
  ]
}